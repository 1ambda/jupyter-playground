{
 "cells": [
  {
   "cell_type": "markdown",
   "metadata": {},
   "source": [
    "## 참고 문서\n",
    "\n",
    "- https://inahjeon.github.io/fasttext/\n",
    "\n",
    "Pre-trained 페이스북 모델을 이용\n",
    "\n",
    "- https://fasttext.cc/docs/en/crawl-vectors.html\n",
    "\n",
    "```bash\n",
    "wget https://dl.fbaipublicfiles.com/fasttext/vectors-crawl/cc.ko.300.bin.gz\n",
    "gunzip cc.ko.300.bin.gz\n",
    "```"
   ]
  },
  {
   "cell_type": "markdown",
   "metadata": {},
   "source": [
    "### 모델 로딩 - 컴퓨터 사양에 따라 2-5분"
   ]
  },
  {
   "cell_type": "code",
   "execution_count": 1,
   "metadata": {},
   "outputs": [],
   "source": [
    "from gensim import models\n",
    "\n",
    "model = models.fasttext.load_facebook_model('dataset/cc.ko.300.bin')"
   ]
  },
  {
   "cell_type": "markdown",
   "metadata": {},
   "source": [
    "### 모델 확인"
   ]
  },
  {
   "cell_type": "code",
   "execution_count": 21,
   "metadata": {},
   "outputs": [
    {
     "name": "stdout",
     "output_type": "stream",
     "text": [
      "[('요구르트란', 0.6581853628158569),\n",
      " ('요구르트가', 0.6238152980804443),\n",
      " ('요구르트나', 0.6092684864997864),\n",
      " ('요구르트의', 0.6040780544281006),\n",
      " ('요구르트는', 0.6016534566879272),\n",
      " ('요구르트도', 0.5866994857788086),\n",
      " ('요구르트에', 0.5772258043289185),\n",
      " ('요구르트와', 0.5720334649085999),\n",
      " ('요구르트등', 0.5644703507423401),\n",
      " ('요구르트를', 0.543565571308136),\n",
      " ('발효유', 0.5286842584609985),\n",
      " ('요구르트로', 0.5263258814811707),\n",
      " ('플레인요구르트', 0.5114519596099854),\n",
      " ('관광객뿐', 0.5098961591720581),\n",
      " ('요거트', 0.5080659985542297)]\n"
     ]
    }
   ],
   "source": [
    "from pprint import pprint\n",
    "pprint(model.wv.similar_by_word('요구르트', 15))"
   ]
  },
  {
   "cell_type": "code",
   "execution_count": 28,
   "metadata": {},
   "outputs": [
    {
     "name": "stdout",
     "output_type": "stream",
     "text": [
      "0.40336058\n",
      "0.55264544\n",
      "0.3441116\n"
     ]
    }
   ],
   "source": [
    "print(model.wv.similarity('아이언맨', '헐크'))\n",
    "print(model.wv.similarity('아이언맨', '스파이더맨'))\n",
    "print(model.wv.similarity('토르', '묠니르'))"
   ]
  },
  {
   "cell_type": "markdown",
   "metadata": {},
   "source": [
    "### 단어 벡터를 PCA 를 이용해 2차원으로 축소 후 차팅"
   ]
  },
  {
   "cell_type": "code",
   "execution_count": 51,
   "metadata": {},
   "outputs": [],
   "source": [
    "from sklearn.decomposition import PCA\n",
    "\n",
    "words = [\n",
    "    '아이언맨',\n",
    "    '스파이더맨',\n",
    "    '헐크',\n",
    "    '타노스',\n",
    "    '캡틴아메리카',\n",
    "    '어벤져스',\n",
    "    '워머신',\n",
    "    '호크아이',\n",
    "    '블랙위도우',\n",
    "    '페퍼포츠',\n",
    "    '닉퓨리'\n",
    "]\n",
    "\n",
    "pca = PCA(n_components=2)\n",
    "decomposed = pca.fit_transform([model.wv.word_vec(word) for word in words])"
   ]
  },
  {
   "cell_type": "code",
   "execution_count": 52,
   "metadata": {},
   "outputs": [
    {
     "name": "stdout",
     "output_type": "stream",
     "text": [
      "(11, 2)\n"
     ]
    }
   ],
   "source": [
    "print(decomposed.shape)\n",
    "xAxis = decomposed[:,0]\n",
    "yAxis = decomposed[:,1]"
   ]
  },
  {
   "cell_type": "code",
   "execution_count": 64,
   "metadata": {},
   "outputs": [
    {
     "data": {
      "image/png": "[encoded data removed]",
      "text/plain": [
       "<Figure size 720x720 with 1 Axes>"
      ]
     },
     "metadata": {
      "needs_background": "light"
     },
     "output_type": "display_data"
    }
   ],
   "source": [
    "import matplotlib.pyplot as plt\n",
    "from matplotlib import font_manager,rc\n",
    "\n",
    "# OSX specific\n",
    "rc('font', family='AppleGothic')\n",
    "plt.rcParams['axes.unicode_minus'] = False\n",
    "\n",
    "\n",
    "plt.figure(figsize=(10, 10))\n",
    "plt.scatter(xAxis, yAxis, marker='o')\n",
    "# plt.xlim(-3, 3)\n",
    "# plt.ylim(-3, 3)\n",
    "\n",
    "for i, label in enumerate(words):\n",
    "    plt.annotate(label, xy=(xAxis[i], yAxis[i]))"
   ]
  },
  {
   "cell_type": "code",
   "execution_count": null,
   "metadata": {},
   "outputs": [],
   "source": []
  },
  {
   "cell_type": "code",
   "execution_count": null,
   "metadata": {},
   "outputs": [],
   "source": []
  }
 ],
 "metadata": {
  "kernelspec": {
   "display_name": "Python 3",
   "language": "python",
   "name": "python3"
  },
  "language_info": {
   "codemirror_mode": {
    "name": "ipython",
    "version": 3
   },
   "file_extension": ".py",
   "mimetype": "text/x-python",
   "name": "python",
   "nbconvert_exporter": "python",
   "pygments_lexer": "ipython3",
   "version": "3.7.2"
  }
 },
 "nbformat": 4,
 "nbformat_minor": 4
}
