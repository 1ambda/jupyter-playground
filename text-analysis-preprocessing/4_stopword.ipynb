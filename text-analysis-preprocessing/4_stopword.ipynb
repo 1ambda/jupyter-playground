{
 "cells": [
  {
   "cell_type": "markdown",
   "metadata": {},
   "source": [
    "## 참고 문서\n",
    "- https://wikidocs.net/22530\n",
    "\n",
    "자주 등장하지만 분석에 있어서 큰 의미가 없는 I, my, me, over 조사, 접미사 등의 단어를 제거"
   ]
  },
  {
   "cell_type": "code",
   "execution_count": null,
   "metadata": {},
   "outputs": [],
   "source": [
    "from pprint import pprint\n",
    "import nltk\n",
    "from nltk.corpus import stopwords\n",
    "\n",
    "nltk.download('stopwords')"
   ]
  },
  {
   "cell_type": "code",
   "execution_count": 10,
   "metadata": {},
   "outputs": [
    {
     "data": {
      "text/plain": [
       "['i', 'me', 'my', 'myself', 'we', 'our', 'ours', 'ourselves', 'you', \"you're\"]"
      ]
     },
     "execution_count": 10,
     "metadata": {},
     "output_type": "execute_result"
    }
   ],
   "source": [
    "stopwords.words('english')[:10]"
   ]
  },
  {
   "cell_type": "code",
   "execution_count": 18,
   "metadata": {},
   "outputs": [
    {
     "name": "stdout",
     "output_type": "stream",
     "text": [
      "['Family', 'is', 'not', 'an', 'important', 'thing', '.', 'It', \"'s\", 'everything', '.']\n",
      "['Family', 'important', 'thing', '.', 'It', \"'s\", 'everything', '.']\n"
     ]
    }
   ],
   "source": [
    "from nltk.tokenize import word_tokenize\n",
    "\n",
    "example = \"Family is not an important thing. It's everything.\"\n",
    "stopword_set = set(stopwords.words('english'))\n",
    "\n",
    "tokens = word_tokenize(example)\n",
    "result = []\n",
    "\n",
    "for word in tokens:\n",
    "    if word not in stopword_set:\n",
    "        result.append(word)\n",
    "        \n",
    "print(tokens)\n",
    "print(result)"
   ]
  },
  {
   "cell_type": "markdown",
   "metadata": {},
   "source": [
    "### 한국어에서 불용어 제거하기\n",
    "\n",
    "간단하게는 토큰화 후에 조사, 접속사 등을 제거하는 방법이 있지만, 결국에는 명사나 형용사중에서도 제거하고 싶은 단어가 생김. 따라서 직접 불용어 사전을 만들게 된다. \n",
    "\n",
    "아래는 보편적인 불용어 사전 링크\n",
    "\n",
    "- https://www.ranks.nl/stopwords/korean\n",
    "- https://bab2min.tistory.com/544"
   ]
  },
  {
   "cell_type": "code",
   "execution_count": null,
   "metadata": {},
   "outputs": [],
   "source": []
  }
 ],
 "metadata": {
  "kernelspec": {
   "display_name": "Python 3",
   "language": "python",
   "name": "python3"
  },
  "language_info": {
   "codemirror_mode": {
    "name": "ipython",
    "version": 3
   },
   "file_extension": ".py",
   "mimetype": "text/x-python",
   "name": "python",
   "nbconvert_exporter": "python",
   "pygments_lexer": "ipython3",
   "version": "3.7.2"
  }
 },
 "nbformat": 4,
 "nbformat_minor": 4
}
