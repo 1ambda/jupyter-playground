{
 "cells": [
  {
   "cell_type": "markdown",
   "metadata": {},
   "source": [
    "## 참조 문서\n",
    "\n",
    "- https://wikidocs.net/21698"
   ]
  },
  {
   "cell_type": "markdown",
   "metadata": {},
   "source": [
    "### 토큰화"
   ]
  },
  {
   "cell_type": "code",
   "execution_count": null,
   "metadata": {},
   "outputs": [],
   "source": [
    "from pprint import pprint\n",
    "\n",
    "import nltk\n",
    "from nltk.tokenize import word_tokenize, WordPunctTokenizer\n",
    "\n",
    "nltk.download('punkt')\n",
    "nltk.download('averaged_perceptron_tagger')"
   ]
  },
  {
   "cell_type": "code",
   "execution_count": 39,
   "metadata": {},
   "outputs": [
    {
     "name": "stdout",
     "output_type": "stream",
     "text": [
      "['Do', \"n't\", 'be', 'fooled', 'by', 'the', 'dark', 'sounding', 'name', ',', 'Mr.', 'Jone', \"'s\", 'Orphanage', 'is', 'as', 'cheery', 'as', 'cheery', 'goes', 'for', 'a', 'pastry', 'shop', '.']\n",
      "['Don', \"'\", 't', 'be', 'fooled', 'by', 'the', 'dark', 'sounding', 'name', ',', 'Mr', '.', 'Jone', \"'\", 's', 'Orphanage', 'is', 'as', 'cheery', 'as', 'cheery', 'goes', 'for', 'a', 'pastry', 'shop', '.']\n"
     ]
    }
   ],
   "source": [
    "text_sample = \"\"\"\n",
    "Don't be fooled by the dark sounding name, \n",
    "Mr. Jone's Orphanage is as cheery as cheery goes for a pastry shop.\n",
    "\"\"\"\n",
    "\n",
    "text_sample2 = \"\"\"\n",
    "Starting a home-based restaurant may be an ideal. \n",
    "it doesn't have a food chain or restaurant of their own.\n",
    "\"\"\"\n",
    "\n",
    "print(word_tokenize(text_sample))\n",
    "print(WordPunctTokenizer().tokenize(text_sample))"
   ]
  },
  {
   "cell_type": "code",
   "execution_count": 20,
   "metadata": {},
   "outputs": [
    {
     "name": "stdout",
     "output_type": "stream",
     "text": [
      "[\"don't\", 'be', 'fooled', 'by', 'the', 'dark', 'sounding', 'name', 'mr', \"jone's\", 'orphanage', 'is', 'as', 'cheery', 'as', 'cheery', 'goes', 'for', 'a', 'pastry', 'shop']\n",
      "['starting', 'a', 'home', 'based', 'restaurant', 'may', 'be', 'an', 'ideal', 'it', \"doesn't\", 'have', 'a', 'food', 'chain', 'or', 'restaurant', 'of', 'their', 'own']\n"
     ]
    }
   ],
   "source": [
    "## 케라스 이용\n",
    "from tensorflow.keras.preprocessing.text import text_to_word_sequence\n",
    "\n",
    "print(text_to_word_sequence(text_sample))\n",
    "print(text_to_word_sequence(text_sample2))"
   ]
  },
  {
   "cell_type": "code",
   "execution_count": 40,
   "metadata": {},
   "outputs": [
    {
     "name": "stdout",
     "output_type": "stream",
     "text": [
      "['Starting', 'a', 'home-based', 'restaurant', 'may', 'be', 'an', 'ideal', '.', 'it', 'does', \"n't\", 'have', 'a', 'food', 'chain', 'or', 'restaurant', 'of', 'their', 'own', '.']\n",
      "['Starting', 'a', 'home-based', 'restaurant', 'may', 'be', 'an', 'ideal.', 'it', 'does', \"n't\", 'have', 'a', 'food', 'chain', 'or', 'restaurant', 'of', 'their', 'own', '.']\n"
     ]
    }
   ],
   "source": [
    "# 표준 토큰화: Peen TreeBank Tokkenization\n",
    "#     1. 하이푼으로 구성된 단어는 하나로 윶히ㅏㄴ다\n",
    "#     2. doesn't 와 같이 아포스트로피로 '접어' 가 함께하는 단어는 분리해준다\n",
    "from nltk.tokenize import TreebankWordTokenizer\n",
    "\n",
    "print(word_tokenize(text_sample2))\n",
    "print(TreebankWordTokenizer().tokenize(text_sample2))"
   ]
  },
  {
   "cell_type": "markdown",
   "metadata": {},
   "source": [
    "### 문장 토큰화"
   ]
  },
  {
   "cell_type": "code",
   "execution_count": 27,
   "metadata": {},
   "outputs": [],
   "source": [
    "from nltk.tokenize import sent_tokenize\n",
    "\n",
    "sample_sentence = \"His barber kept his word. But keeping such a huge secret to himself was driving him crazy. Finally, the barber went up a mountain and almost to the edge of a cliff. He dug a hole in the midst of some reeds. He looked about, to mae sure no one was near.\"\n",
    "sample_sentence2=\"I am actively looking for Ph.D. students. and you are a Ph.D student.\""
   ]
  },
  {
   "cell_type": "code",
   "execution_count": 28,
   "metadata": {},
   "outputs": [
    {
     "name": "stdout",
     "output_type": "stream",
     "text": [
      "['His barber kept his word.', 'But keeping such a huge secret to himself was driving him crazy.', 'Finally, the barber went up a mountain and almost to the edge of a cliff.', 'He dug a hole in the midst of some reeds.', 'He looked about, to mae sure no one was near.']\n",
      "['I am actively looking for Ph.D. students.', 'and you are a Ph.D student.']\n"
     ]
    }
   ],
   "source": [
    "print(sent_tokenize(sample_sentence))\n",
    "print(sent_tokenize(sample_sentence2))"
   ]
  },
  {
   "cell_type": "markdown",
   "metadata": {},
   "source": [
    "### 문장 토큰화 기타 참고 자료\n",
    "\n",
    "- https://tech.grammarly.com/blog/posts/How-to-Split-Sentences.html"
   ]
  },
  {
   "cell_type": "markdown",
   "metadata": {},
   "source": [
    "### 품사 태깅 (POS)"
   ]
  },
  {
   "cell_type": "code",
   "execution_count": 43,
   "metadata": {},
   "outputs": [],
   "source": [
    "from nltk.tag import pos_tag"
   ]
  },
  {
   "cell_type": "code",
   "execution_count": 48,
   "metadata": {},
   "outputs": [
    {
     "name": "stdout",
     "output_type": "stream",
     "text": [
      "[('Do', 'VBP'),\n",
      " (\"n't\", 'RB'),\n",
      " ('be', 'VB'),\n",
      " ('fooled', 'VBN'),\n",
      " ('by', 'IN'),\n",
      " ('the', 'DT'),\n",
      " ('dark', 'NN'),\n",
      " ('sounding', 'VBG'),\n",
      " ('name', 'NN'),\n",
      " (',', ','),\n",
      " ('Mr.', 'NNP'),\n",
      " ('Jone', 'NNP'),\n",
      " (\"'s\", 'POS'),\n",
      " ('Orphanage', 'NN'),\n",
      " ('is', 'VBZ'),\n",
      " ('as', 'RB'),\n",
      " ('cheery', 'JJ'),\n",
      " ('as', 'IN'),\n",
      " ('cheery', 'NN'),\n",
      " ('goes', 'VBZ'),\n",
      " ('for', 'IN'),\n",
      " ('a', 'DT'),\n",
      " ('pastry', 'NN'),\n",
      " ('shop', 'NN'),\n",
      " ('.', '.')]\n"
     ]
    }
   ],
   "source": [
    "tokens = word_tokenize(text_sample)\n",
    "tagged_tokens = pos_tag(tokens)\n",
    "\n",
    "pprint(tagged_tokens)"
   ]
  },
  {
   "cell_type": "code",
   "execution_count": null,
   "metadata": {},
   "outputs": [],
   "source": []
  }
 ],
 "metadata": {
  "kernelspec": {
   "display_name": "Python 3",
   "language": "python",
   "name": "python3"
  },
  "language_info": {
   "codemirror_mode": {
    "name": "ipython",
    "version": 3
   },
   "file_extension": ".py",
   "mimetype": "text/x-python",
   "name": "python",
   "nbconvert_exporter": "python",
   "pygments_lexer": "ipython3",
   "version": "3.7.2"
  }
 },
 "nbformat": 4,
 "nbformat_minor": 4
}
