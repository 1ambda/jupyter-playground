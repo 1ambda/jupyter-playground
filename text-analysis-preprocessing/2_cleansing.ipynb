{
 "cells": [
  {
   "cell_type": "markdown",
   "metadata": {},
   "source": [
    "## 참조 문서\n",
    "- https://wikidocs.net/21693"
   ]
  },
  {
   "cell_type": "markdown",
   "metadata": {},
   "source": [
    "**토큰화 (Tokenization)**: 코퍼스에서 용도에 맞게 토큰을 분류하는 작업  \n",
    "**정제 (Cleaning)**: 갖고 있는 코퍼스로부터 노이즈 데이터를 제거  \n",
    "**정규화 (Normalization)** 표현 방법이 다른 단어들을 통합시켜 같은 단어로 변환  \n"
   ]
  },
  {
   "cell_type": "markdown",
   "metadata": {},
   "source": [
    "### 1. 규칙에 기반한 표기 통합\n",
    "- USA, US 등 동일한 단어로 변환\n",
    "\n",
    "정규화 사전을 이용할 수도 있지만 어간 추출 (Stemming) 과 표제어 추출 (Lemmatization) 을 활용할 수 있음"
   ]
  },
  {
   "cell_type": "markdown",
   "metadata": {},
   "source": [
    "### 2. 대, 소문자 통합\n",
    "\n",
    "무조건 대, 소문자를 통합할 수는 없음\n",
    "- 단어 US (미국) 과 우리를 뜻하는 us 는 구분되어야\n",
    "- 사람 이름 (Bush)"
   ]
  },
  {
   "cell_type": "markdown",
   "metadata": {},
   "source": [
    "### 3. 불필요한 단어의 제거\n",
    "\n",
    "불용어 제거 (Stopword), 빈도가 적은 단어, 길이가 짧은 단어등을 제거할 수 있음\n",
    "- 예를 들어 100,000 개의 메일 데이터에서 총 5번밖에 등장하지 않은 단어를 제거\n",
    "- 영어권에서는 단어가 짧은 단어들은 대부분 불용어일 확률이 높고, 제거할 경우 효과를 볼 수 있다고 알려져 있음\n",
    "    * 영어 단어는 평균 6~7, 한국어는 2-3 정도로 추정"
   ]
  },
  {
   "cell_type": "markdown",
   "metadata": {},
   "source": [
    "### 4. 정규 표현식등을 이용한 노이즈 제거\n",
    "\n",
    "예를 들어 HTML 데이터에서 Tag 등"
   ]
  },
  {
   "cell_type": "code",
   "execution_count": null,
   "metadata": {},
   "outputs": [],
   "source": []
  }
 ],
 "metadata": {
  "kernelspec": {
   "display_name": "Python 3",
   "language": "python",
   "name": "python3"
  },
  "language_info": {
   "codemirror_mode": {
    "name": "ipython",
    "version": 3
   },
   "file_extension": ".py",
   "mimetype": "text/x-python",
   "name": "python",
   "nbconvert_exporter": "python",
   "pygments_lexer": "ipython3",
   "version": "3.7.2"
  }
 },
 "nbformat": 4,
 "nbformat_minor": 4
}
