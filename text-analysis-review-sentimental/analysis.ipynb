{
 "cells": [
  {
   "cell_type": "markdown",
   "metadata": {},
   "source": [
    "## 참고 문서\n",
    "\n",
    "- https://cyc1am3n.github.io/2018/11/10/classifying_korean_movie_review.html\n",
    "- https://datascienceschool.net/view-notebook/3e7aadbf88ed4f0d87a76f9ddc925d69/"
   ]
  },
  {
   "cell_type": "code",
   "execution_count": 1,
   "metadata": {},
   "outputs": [],
   "source": [
    "from __future__ import absolute_import, division, print_function, unicode_literals\n",
    "\n",
    "import datetime\n",
    "import tensorflow as tf\n",
    "from tqdm.notebook import trange, tqdm"
   ]
  },
  {
   "cell_type": "markdown",
   "metadata": {},
   "source": [
    "## 데이터 로드"
   ]
  },
  {
   "cell_type": "code",
   "execution_count": 2,
   "metadata": {},
   "outputs": [],
   "source": [
    "def read_data(filename):\n",
    "    with open(filename, 'r') as f:\n",
    "        data = [line.split('\\t') for line in f.read().splitlines()]\n",
    "        data = data[1:]\n",
    "    return data"
   ]
  },
  {
   "cell_type": "code",
   "execution_count": 3,
   "metadata": {},
   "outputs": [],
   "source": [
    "train_data = read_data(\"./dataset/ratings_train.txt\")\n",
    "test_data = read_data(\"./dataset/ratings_test.txt\")"
   ]
  },
  {
   "cell_type": "code",
   "execution_count": 4,
   "metadata": {},
   "outputs": [
    {
     "name": "stdout",
     "output_type": "stream",
     "text": [
      "150000\n",
      "50000\n",
      "['9976970', '아 더빙.. 진짜 짜증나네요 목소리', '0']\n"
     ]
    }
   ],
   "source": [
    "print(len(train_data))\n",
    "print(len(test_data))\n",
    "print(train_data[0])"
   ]
  },
  {
   "cell_type": "markdown",
   "metadata": {},
   "source": [
    "## Tokenizing"
   ]
  },
  {
   "cell_type": "code",
   "execution_count": 5,
   "metadata": {},
   "outputs": [],
   "source": [
    "from konlpy.tag import Okt\n",
    "\n",
    "okt = Okt()\n",
    "\n",
    "def tokenize(doc):\n",
    "  tagged = okt.pos(doc, norm=True, stem=True) # norm = 정규화, step = 근어\n",
    "  joined = [\"/\".join(t) for t in tagged]\n",
    "  return joined\n",
    "\n",
    "def tokenizeWithProgress(docs, desc):\n",
    "    pairs = []\n",
    "    \n",
    "    for raw in tqdm(docs, desc = desc):\n",
    "        tokenized = tokenize(raw[1]) # raw[1] = doc\n",
    "        label = raw[2] # raw[2] = sentimental label\n",
    "        paired = (tokenized, label)\n",
    "        pairs.append(paired)\n",
    "                     \n",
    "    return pairs"
   ]
  },
  {
   "cell_type": "code",
   "execution_count": 14,
   "metadata": {},
   "outputs": [
    {
     "data": {
      "application/vnd.jupyter.widget-view+json": {
       "model_id": "f305d58b8d22414590cad0aada2c5247",
       "version_major": 2,
       "version_minor": 0
      },
      "text/plain": [
       "HBox(children=(FloatProgress(value=0.0, description='Tokenizing train dataset', max=150000.0, style=ProgressSt…"
      ]
     },
     "metadata": {},
     "output_type": "display_data"
    },
    {
     "name": "stdout",
     "output_type": "stream",
     "text": [
      "\n"
     ]
    },
    {
     "data": {
      "application/vnd.jupyter.widget-view+json": {
       "model_id": "5ca9cb72eeed401b94be42a9765f3ba0",
       "version_major": 2,
       "version_minor": 0
      },
      "text/plain": [
       "HBox(children=(FloatProgress(value=0.0, description='Tokenizing test dataset', max=50000.0, style=ProgressStyl…"
      ]
     },
     "metadata": {},
     "output_type": "display_data"
    },
    {
     "name": "stdout",
     "output_type": "stream",
     "text": [
      "\n"
     ]
    }
   ],
   "source": [
    "# train_docs = tokenizeWithProgress(train_data, 'Tokenizing train dataset')\n",
    "# test_docs = tokenizeWithProgress(test_data, 'Tokenizing test dataset')"
   ]
  },
  {
   "cell_type": "code",
   "execution_count": 6,
   "metadata": {},
   "outputs": [],
   "source": [
    "import json\n",
    "import os\n",
    "from pprint import pprint\n",
    "\n",
    "if os.path.isfile(\"./dataset/train_tokens.json\"):\n",
    "    # 저장된 파일이 있을 경우 로딩\n",
    "    with open(\"./dataset/train_tokens.json\") as f:\n",
    "        train_docs = json.load(f)\n",
    "    with open('./dataset/test_tokens.json') as f:\n",
    "        test_docs = json.load(f)\n",
    "        \n",
    "else:\n",
    "    # 저장된 파일이 없을 경우 컴퓨팅\n",
    "    train_docs = tokenizeWithProgress(train_data, 'Tokenizing train dataset')\n",
    "    test_docs = tokenizeWithProgress(test_data, 'Tokenizing test dataset')"
   ]
  },
  {
   "cell_type": "markdown",
   "metadata": {},
   "source": [
    "## 태깅된 토큰들을 저장 (추후 다시 로드시)"
   ]
  },
  {
   "cell_type": "code",
   "execution_count": 23,
   "metadata": {},
   "outputs": [],
   "source": [
    "with open(\"./dataset/train_tokens.json\", \"w\", encoding=\"utf-8\") as f:\n",
    "    json.dump(train_docs, f, ensure_ascii=False, indent=\"\\t\")\n",
    "with open(\"./dataset/test_tokens.json\", \"w\", encoding=\"utf-8\") as f:\n",
    "    json.dump(test_docs, f, ensure_ascii=False, indent=\"\\t\")"
   ]
  },
  {
   "cell_type": "code",
   "execution_count": 7,
   "metadata": {},
   "outputs": [
    {
     "data": {
      "text/plain": [
       "2159921"
      ]
     },
     "execution_count": 7,
     "metadata": {},
     "output_type": "execute_result"
    }
   ],
   "source": [
    "tokens = [token for doc in train_docs for token in doc[0]] ## flatten\n",
    "len(tokens)"
   ]
  },
  {
   "cell_type": "markdown",
   "metadata": {},
   "source": [
    "## NLTK 라이브러리를 이용해 탐색"
   ]
  },
  {
   "cell_type": "code",
   "execution_count": 8,
   "metadata": {},
   "outputs": [
    {
     "name": "stdout",
     "output_type": "stream",
     "text": [
      "2159921\n",
      "49895\n",
      "[('./Punctuation', 67778),\n",
      " ('영화/Noun', 50818),\n",
      " ('하다/Verb', 41209),\n",
      " ('이/Josa', 38540),\n",
      " ('보다/Verb', 38538),\n",
      " ('의/Josa', 30188),\n",
      " ('../Punctuation', 29055),\n",
      " ('가/Josa', 26627),\n",
      " ('에/Josa', 26468),\n",
      " ('을/Josa', 23118),\n",
      " ('.../Punctuation', 22795),\n",
      " ('도/Josa', 20037),\n",
      " ('은/Josa', 18435),\n",
      " ('들/Suffix', 18101),\n",
      " (',/Punctuation', 17643),\n",
      " ('는/Josa', 16819),\n",
      " ('없다/Adjective', 15635),\n",
      " ('를/Josa', 15632),\n",
      " ('있다/Adjective', 12496),\n",
      " ('좋다/Adjective', 12154)]\n"
     ]
    }
   ],
   "source": [
    "import nltk\n",
    "\n",
    "text = nltk.Text(tokens, name = 'NMSC')\n",
    "print(len(text.tokens)) # 전체 토큰\n",
    "print(len(set(text.tokens))) # 중복 제외\n",
    "\n",
    "pprint(text.vocab().most_common(20))"
   ]
  },
  {
   "cell_type": "code",
   "execution_count": 9,
   "metadata": {},
   "outputs": [
    {
     "data": {
      "image/png": "[encoded data removed]",
      "text/plain": [
       "<Figure size 1440x720 with 1 Axes>"
      ]
     },
     "metadata": {
      "needs_background": "light"
     },
     "output_type": "display_data"
    }
   ],
   "source": [
    "import matplotlib.pyplot as plt\n",
    "from matplotlib import font_manager,rc\n",
    "\n",
    "# OSX specific\n",
    "rc('font', family='AppleGothic')\n",
    "plt.rcParams['axes.unicode_minus'] = False\n",
    "\n",
    "plt.figure(figsize=(20,10))\n",
    "text.plot(50)"
   ]
  },
  {
   "cell_type": "markdown",
   "metadata": {},
   "source": [
    "## 토큰을 벡터화 하기"
   ]
  },
  {
   "cell_type": "code",
   "execution_count": 16,
   "metadata": {},
   "outputs": [
    {
     "data": {
      "text/plain": [
       "['./Punctuation',\n",
       " '영화/Noun',\n",
       " '하다/Verb',\n",
       " '이/Josa',\n",
       " '보다/Verb',\n",
       " '의/Josa',\n",
       " '../Punctuation',\n",
       " '가/Josa',\n",
       " '에/Josa',\n",
       " '을/Josa']"
      ]
     },
     "execution_count": 16,
     "metadata": {},
     "output_type": "execute_result"
    }
   ],
   "source": [
    "frequent_words = [pair[0] for pair in text.vocab().most_common(10000)]\n",
    "frequent_words[:10]"
   ]
  },
  {
   "cell_type": "code",
   "execution_count": 34,
   "metadata": {},
   "outputs": [],
   "source": [
    "# 토큰별로, 각 문서집합에서 Frequency 를 얻어 이를 벡터로\n",
    "# token X docs\n",
    "\n",
    "def termFrequency(doc, frequent_words):\n",
    "    v = [doc.count(word) for word in frequent_words]\n",
    "    return v\n",
    "\n",
    "def termFrequencyWithProgress(docs, frequent_words, desc):\n",
    "    \n",
    "    vectorized = []\n",
    "    for pair in tqdm(docs, desc = desc):\n",
    "        doc = pair[0]\n",
    "        v = [doc.count(word) for word in frequent_words]\n",
    "        vectorized.append(v)\n",
    "\n",
    "    return vectorized"
   ]
  },
  {
   "cell_type": "code",
   "execution_count": 18,
   "metadata": {},
   "outputs": [
    {
     "data": {
      "application/vnd.jupyter.widget-view+json": {
       "model_id": "14660c82fa40444eb911f93159dedef3",
       "version_major": 2,
       "version_minor": 0
      },
      "text/plain": [
       "HBox(children=(FloatProgress(value=0.0, description='Vectorizing training tokens', max=150000.0, style=Progres…"
      ]
     },
     "metadata": {},
     "output_type": "display_data"
    },
    {
     "name": "stdout",
     "output_type": "stream",
     "text": [
      "\n"
     ]
    },
    {
     "data": {
      "application/vnd.jupyter.widget-view+json": {
       "model_id": "7a197608dcef49509b99ea1458317d4c",
       "version_major": 2,
       "version_minor": 0
      },
      "text/plain": [
       "HBox(children=(FloatProgress(value=0.0, description='Vectorizing test tokens', max=50000.0, style=ProgressStyl…"
      ]
     },
     "metadata": {},
     "output_type": "display_data"
    },
    {
     "name": "stdout",
     "output_type": "stream",
     "text": [
      "\n"
     ]
    }
   ],
   "source": [
    "train_x = termFrequencyWithProgress(train_docs, frequent_words, 'Vectorizing training tokens')\n",
    "test_x = termFrequencyWithProgress(test_docs, frequent_words, 'Vectorizing test tokens')\n",
    "train_y = [label for _, label in train_docs]\n",
    "test_y = [label for _, label in test_docs]"
   ]
  },
  {
   "cell_type": "code",
   "execution_count": 21,
   "metadata": {},
   "outputs": [],
   "source": [
    "import numpy as np\n",
    "\n",
    "# converting\n",
    "x_train = np.asarray(train_x).astype('float32')\n",
    "x_test = np.asarray(test_x).astype('float32')\n",
    "y_train = np.asarray(train_y).astype('float32')\n",
    "y_test = np.asarray(test_y).astype('float32')"
   ]
  },
  {
   "cell_type": "code",
   "execution_count": 42,
   "metadata": {},
   "outputs": [
    {
     "name": "stdout",
     "output_type": "stream",
     "text": [
      "(150000, 10000)\n",
      "(150000,)\n"
     ]
    }
   ],
   "source": [
    "print(x_train.shape)\n",
    "print(y_train.shape)"
   ]
  },
  {
   "cell_type": "markdown",
   "metadata": {},
   "source": [
    "## TF 모델링"
   ]
  },
  {
   "cell_type": "code",
   "execution_count": 27,
   "metadata": {},
   "outputs": [],
   "source": [
    "from tensorflow.keras import models\n",
    "from tensorflow.keras import layers\n",
    "from tensorflow.keras import optimizers\n",
    "from tensorflow.keras import losses\n",
    "from tensorflow.keras import metrics\n",
    "\n",
    "model = models.Sequential()\n",
    "model.add(layers.Dense(64, activation='relu', input_shape=(10000,)))\n",
    "model.add(layers.Dense(64, activation='relu'))\n",
    "model.add(layers.Dense(1, activation='sigmoid'))\n",
    "\n",
    "model.compile(optimizer=optimizers.RMSprop(lr=0.001),\n",
    "             loss=losses.binary_crossentropy,\n",
    "             metrics=[metrics.binary_accuracy])\n",
    "        "
   ]
  },
  {
   "cell_type": "code",
   "execution_count": null,
   "metadata": {},
   "outputs": [],
   "source": [
    "model.fit(x_train, y_train, epochs=10, batch_size=512)\n",
    "results = model.evaluate(x_test, y_test)\n",
    "\n",
    "results"
   ]
  },
  {
   "cell_type": "code",
   "execution_count": 47,
   "metadata": {},
   "outputs": [],
   "source": [
    "def predict(doc):\n",
    "    tokens = tokenize(doc)\n",
    "    term_freq = termFrequency(tokens, frequent_words)\n",
    "    converted = np.expand_dims(np.asarray(term_freq).astype('float32'), axis = 0)\n",
    "    score = float(model.predict(converted))\n",
    "    return score"
   ]
  },
  {
   "cell_type": "code",
   "execution_count": 59,
   "metadata": {},
   "outputs": [
    {
     "name": "stdout",
     "output_type": "stream",
     "text": [
      "0.9641249179840088\n",
      "0.0022729597985744476\n",
      "0.011636914685368538\n"
     ]
    }
   ],
   "source": [
    "print(predict('좋은 영화입니다!'))\n",
    "print(predict('별루인 영화입니다!'))\n",
    "print(predict('노잼'))"
   ]
  },
  {
   "cell_type": "code",
   "execution_count": null,
   "metadata": {},
   "outputs": [],
   "source": []
  }
 ],
 "metadata": {
  "kernelspec": {
   "display_name": "Python 3",
   "language": "python",
   "name": "python3"
  },
  "language_info": {
   "codemirror_mode": {
    "name": "ipython",
    "version": 3
   },
   "file_extension": ".py",
   "mimetype": "text/x-python",
   "name": "python",
   "nbconvert_exporter": "python",
   "pygments_lexer": "ipython3",
   "version": "3.7.2"
  }
 },
 "nbformat": 4,
 "nbformat_minor": 4
}
