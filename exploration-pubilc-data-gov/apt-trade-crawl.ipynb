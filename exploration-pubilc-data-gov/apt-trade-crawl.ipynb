{
 "cells": [
  {
   "cell_type": "code",
   "execution_count": 1,
   "metadata": {},
   "outputs": [],
   "source": [
    "import json\n",
    "from pathlib import Path\n",
    "import requests\n",
    "from bs4 import BeautifulSoup\n",
    "\n",
    "import time\n",
    "\n",
    "from tqdm.notebook import trange, tqdm\n",
    "\n",
    "import pandas as pd\n",
    "import numpy as np"
   ]
  },
  {
   "cell_type": "code",
   "execution_count": 2,
   "metadata": {},
   "outputs": [],
   "source": [
    "## 공공 데이터 API 키 설정\n",
    "\n",
    "apiKeyPath = './api-key/public-data-gov-key.json'\n",
    "apiKey = ''\n",
    "\n",
    "with open(apiKeyPath) as json_file:\n",
    "    loaded = json.load(json_file)\n",
    "    apiKey = loaded['key']"
   ]
  },
  {
   "cell_type": "code",
   "execution_count": 10,
   "metadata": {},
   "outputs": [],
   "source": [
    "## 법정동 코드 Pandas 로 읽기\n",
    "dfDistrictCodeB = pd.read_csv('./dataset/district_code_b.csv').query(\"폐지여부 == False\")\n",
    "dfDistrictCodeB['법정구코드'] = dfDistrictCodeB['법정동코드'].apply(lambda x: int(str(x)[:5]))"
   ]
  },
  {
   "cell_type": "code",
   "execution_count": 14,
   "metadata": {},
   "outputs": [
    {
     "name": "stdout",
     "output_type": "stream",
     "text": [
      "277\n"
     ]
    }
   ],
   "source": [
    "print(len(dfDistrictCodeB['법정구코드'].unique()))"
   ]
  },
  {
   "cell_type": "code",
   "execution_count": 20,
   "metadata": {},
   "outputs": [],
   "source": [
    "## 아파트 실거래가 데이터\n",
    "def getAptTradeResponse(code, ymd, key):\n",
    "    apiPrefixGetAptTrade = \"http://openapi.molit.go.kr:8081/OpenAPI_ToolInstallPackage/service/rest/RTMSOBJSvc/getRTMSDataSvcAptTrade\"\n",
    "    urlGetAptTrade = \"{}?type=xml&LAWD_CD={}&DEAL_YMD={}&serviceKey={}\".format(\n",
    "        apiPrefixGetAptTrade, \n",
    "        code,\n",
    "        ymd,\n",
    "        key\n",
    "    )\n",
    "\n",
    "    responseApiTrade = requests.get(urlGetAptTrade, verify = False)\n",
    "    return responseApiTrade.text\n",
    "\n",
    "# XML 파싱 후 필터링\n",
    "def parseAptTradeResponse(text):\n",
    "    parsed = BeautifulSoup(text, 'lxml-xml')\n",
    "    rawXmlItems = parsed.findAll(\"item\")\n",
    "\n",
    "    colNames = [\n",
    "        '법정동',\n",
    "        '지역코드',\n",
    "        '아파트',\n",
    "        '지번',\n",
    "        '년',\n",
    "        '월',\n",
    "        '일',\n",
    "        '건축년도',\n",
    "        '전용면적',\n",
    "        '층',\n",
    "        '거래금액'\n",
    "    ]\n",
    "\n",
    "    dfRaw = pd.DataFrame(index = [], columns = colNames)\n",
    "\n",
    "    # XML 내 item 을 반복하며 pandas df 로 변경\n",
    "    for rawXmlItem in rawXmlItems: \n",
    "        row = dict.fromkeys(colNames)\n",
    "\n",
    "        for col in colNames:       \n",
    "            try :\n",
    "                row[col] = rawXmlItem.find(col).text\n",
    "            except :\n",
    "                row[col] = np.nan\n",
    "\n",
    "        dfTemp = pd.DataFrame(\n",
    "            [row],\n",
    "            columns = colNames)\n",
    "\n",
    "        dfRaw = dfRaw.append(dfTemp)\n",
    "\n",
    "    # 컬럼 타입 변경 또는 추가\n",
    "    dfReturn = dfRaw\n",
    "    dfReturn['거래일'] = pd.to_datetime(dfRaw['년'] + '-' + dfRaw['월'] + '-' + dfRaw['일'])\n",
    "    dfReturn['거래금액'] = pd.to_numeric(dfRaw['거래금액'].str.replace(',', ''))\n",
    "\n",
    "    dfReturn['지역코드'] = pd.to_numeric(dfRaw['지역코드'])\n",
    "    dfReturn['년'] = pd.to_numeric(dfRaw['년'])\n",
    "    dfReturn['월'] = pd.to_numeric(dfRaw['월'])\n",
    "    dfReturn['일'] = pd.to_numeric(dfRaw['일'])\n",
    "    \n",
    "    dfReturn['법정동'] = dfRaw['법정동'].str.strip()\n",
    "    dfReturn['아파트'] = dfRaw['아파트'].str.strip()\n",
    "    dfReturn['지번'] = dfRaw['지번'].str.strip()\n",
    "\n",
    "    dfReturn['건축년도'] = pd.to_numeric(dfRaw['건축년도'])\n",
    "    dfReturn['전용면적'] = pd.to_numeric(dfRaw['전용면적'])\n",
    "    dfReturn['층'] = pd.to_numeric(dfRaw['층'])\n",
    "    \n",
    "    dfReturn['p_ymd'] = pd.Timestamp(\"today\").strftime(\"%Y%m%d\")\n",
    "    dfReturn.index = range(len(dfReturn))\n",
    "\n",
    "    return dfReturn"
   ]
  },
  {
   "cell_type": "code",
   "execution_count": 18,
   "metadata": {},
   "outputs": [],
   "source": [
    "def crawlAptTrade(code, ymd, key):\n",
    "    filePath = './dataset/apt-trade/{}/apt-trade-{}-{}.csv'.format(ymd, code, ymd)\n",
    "    \n",
    "    resAptTrade = getAptTradeResponse(\n",
    "        code, \n",
    "        ymd,\n",
    "        key)\n",
    "\n",
    "    dfAptTrade = parseAptTradeResponse(resAptTrade)\n",
    "    \n",
    "    if dfAptTrade.size > 0:\n",
    "        dfAptTrade.to_csv(filePath, mode='w', index=False)"
   ]
  },
  {
   "cell_type": "code",
   "execution_count": null,
   "metadata": {},
   "outputs": [
    {
     "name": "stdout",
     "output_type": "stream",
     "text": [
      "아파트 실거래가 수집 (201911)\n"
     ]
    },
    {
     "data": {
      "application/vnd.jupyter.widget-view+json": {
       "model_id": "075c9417c20d4f72b8105260045d420b",
       "version_major": 2,
       "version_minor": 0
      },
      "text/plain": [
       "HBox(children=(FloatProgress(value=0.0, max=277.0), HTML(value='')))"
      ]
     },
     "metadata": {},
     "output_type": "display_data"
    },
    {
     "name": "stdout",
     "output_type": "stream",
     "text": [
      "수집중: 11000\n",
      "수집중: 11110\n",
      "수집중: 11140\n",
      "수집중: 11170\n",
      "수집중: 11200\n",
      "수집중: 11215\n",
      "수집중: 11230\n",
      "수집중: 11260\n",
      "수집중: 11290\n",
      "수집중: 11305\n",
      "수집중: 11320\n",
      "수집중: 11350\n",
      "수집중: 11380\n",
      "수집중: 11410\n",
      "수집중: 11440\n",
      "수집중: 11470\n",
      "수집중: 11500\n",
      "수집중: 11530\n",
      "수집중: 11545\n",
      "수집중: 11560\n",
      "수집중: 11590\n",
      "수집중: 11620\n",
      "수집중: 11650\n",
      "수집중: 11680\n",
      "수집중: 11710\n",
      "수집중: 11740\n",
      "수집중: 26000\n",
      "수집중: 26110\n",
      "수집중: 26140\n",
      "수집중: 26170\n",
      "수집중: 26200\n",
      "수집중: 26230\n",
      "수집중: 26260\n"
     ]
    }
   ],
   "source": [
    "dealYmd = '201911'\n",
    "uniqueCodes = dfDistrictCodeB['법정구코드'].unique()\n",
    "\n",
    "print('아파트 실거래가 수집 ({})'.format(dealYmd))\n",
    "for code in tqdm(uniqueCodes):\n",
    "    \n",
    "    print('수집중: {}'.format(code))\n",
    "    \n",
    "    time.sleep(0.10)\n",
    "    \n",
    "    crawlAptTrade(code, dealYmd, apiKey)"
   ]
  },
  {
   "cell_type": "code",
   "execution_count": null,
   "metadata": {},
   "outputs": [],
   "source": []
  }
 ],
 "metadata": {
  "kernelspec": {
   "display_name": "Python 3",
   "language": "python",
   "name": "python3"
  },
  "language_info": {
   "codemirror_mode": {
    "name": "ipython",
    "version": 3
   },
   "file_extension": ".py",
   "mimetype": "text/x-python",
   "name": "python",
   "nbconvert_exporter": "python",
   "pygments_lexer": "ipython3",
   "version": "3.7.2"
  }
 },
 "nbformat": 4,
 "nbformat_minor": 4
}
