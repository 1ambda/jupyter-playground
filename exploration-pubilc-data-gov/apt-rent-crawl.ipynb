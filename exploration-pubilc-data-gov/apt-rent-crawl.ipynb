{
 "cells": [
  {
   "cell_type": "code",
   "execution_count": 2,
   "metadata": {},
   "outputs": [],
   "source": [
    "import json\n",
    "from pathlib import Path\n",
    "import requests\n",
    "from bs4 import BeautifulSoup\n",
    "\n",
    "import time\n",
    "\n",
    "from tqdm.notebook import trange, tqdm\n",
    "\n",
    "import pandas as pd\n",
    "import numpy as np"
   ]
  },
  {
   "cell_type": "code",
   "execution_count": 3,
   "metadata": {},
   "outputs": [],
   "source": [
    "## 공공 데이터 API 키 설정\n",
    "\n",
    "apiKeyPath = './api-key/public-data-gov-key.json'\n",
    "apiKey = ''\n",
    "\n",
    "with open(apiKeyPath) as json_file:\n",
    "    loaded = json.load(json_file)\n",
    "    apiKey = loaded['key']"
   ]
  },
  {
   "cell_type": "code",
   "execution_count": 5,
   "metadata": {},
   "outputs": [
    {
     "name": "stdout",
     "output_type": "stream",
     "text": [
      "277\n"
     ]
    }
   ],
   "source": [
    "## 법정동 코드 Pandas 로 읽기\n",
    "dfDistrictCodeB = pd.read_csv('./dataset/district_code_b.csv').query(\"폐지여부 == False\")\n",
    "dfDistrictCodeB['법정구코드'] = dfDistrictCodeB['법정동코드'].apply(lambda x: int(str(x)[:5]))\n",
    "print(len(dfDistrictCodeB['법정구코드'].unique()))"
   ]
  },
  {
   "cell_type": "code",
   "execution_count": 10,
   "metadata": {},
   "outputs": [],
   "source": [
    "## 아파트 실거래가 데이터\n",
    "def getAptRentResponse(code, ymd, key):\n",
    "    apiPrefixGetAptTrade = \"http://openapi.molit.go.kr:8081/OpenAPI_ToolInstallPackage/service/rest/RTMSOBJSvc/getRTMSDataSvcAptRent\"\n",
    "    urlGetAptTrade = \"{}?type=xml&LAWD_CD={}&DEAL_YMD={}&serviceKey={}\".format(\n",
    "        apiPrefixGetAptTrade, \n",
    "        code,\n",
    "        ymd,\n",
    "        key\n",
    "    )\n",
    "\n",
    "    responseApiTrade = requests.get(urlGetAptTrade, verify = False)\n",
    "    return responseApiTrade.text\n"
   ]
  },
  {
   "cell_type": "markdown",
   "metadata": {},
   "source": [
    "# 샘플 응답 포맷\n",
    "\n",
    "getAptRentResponse(11200, '201912', apiKey)\n",
    "\n",
    "```html\n",
    "<item>\n",
    "   <건축년도>2014</건축년도>\n",
    "   <년>2019</년>\n",
    "   <법정동> 상왕십리동</법정동>\n",
    "   <보증금액>    70,000</보증금액>\n",
    "   <아파트>텐즈힐(2구역)</아파트>\n",
    "   <월>12</월>\n",
    "   <월세금액>         0</월세금액>\n",
    "   <일>16</일>\n",
    "   <전용면적>84.92</전용면적>\n",
    "   <지번>811</지번>\n",
    "   <지역코드>11200</지역코드>\n",
    "   <층>1</층>\n",
    "</item>\n",
    "```"
   ]
  },
  {
   "cell_type": "code",
   "execution_count": 13,
   "metadata": {},
   "outputs": [],
   "source": [
    "# XML 파싱 후 필터링\n",
    "def parseAptRentResponse(text):\n",
    "    parsed = BeautifulSoup(text, 'lxml-xml')\n",
    "    rawXmlItems = parsed.findAll(\"item\")\n",
    "\n",
    "    colNames = [\n",
    "        '법정동',\n",
    "        '지역코드',\n",
    "        '아파트',\n",
    "        '지번',\n",
    "        '년',\n",
    "        '월',\n",
    "        '일',\n",
    "        '건축년도',\n",
    "        '전용면적',\n",
    "        '층',\n",
    "        '월세금액',\n",
    "        '보증금액'\n",
    "    ]\n",
    "\n",
    "    dfRaw = pd.DataFrame(index = [], columns = colNames)\n",
    "\n",
    "    # XML 내 item 을 반복하며 pandas df 로 변경\n",
    "    for rawXmlItem in rawXmlItems: \n",
    "        row = dict.fromkeys(colNames)\n",
    "\n",
    "        for col in colNames:       \n",
    "            try :\n",
    "                row[col] = rawXmlItem.find(col).text\n",
    "            except :\n",
    "                row[col] = np.nan\n",
    "\n",
    "        dfTemp = pd.DataFrame(\n",
    "            [row],\n",
    "            columns = colNames)\n",
    "\n",
    "        dfRaw = dfRaw.append(dfTemp)\n",
    "\n",
    "    # 컬럼 타입 변경 또는 추가\n",
    "    dfReturn = dfRaw\n",
    "    dfReturn['거래일'] = pd.to_datetime(dfRaw['년'] + '-' + dfRaw['월'] + '-' + dfRaw['일'])\n",
    "    dfReturn['월세금액'] = pd.to_numeric(dfRaw['월세금액'].str.replace(',', ''))\n",
    "    dfReturn['보증금액'] = pd.to_numeric(dfRaw['보증금액'].str.replace(',', ''))\n",
    "\n",
    "    dfReturn['지역코드'] = pd.to_numeric(dfRaw['지역코드'])\n",
    "    dfReturn['년'] = pd.to_numeric(dfRaw['년'])\n",
    "    dfReturn['월'] = pd.to_numeric(dfRaw['월'])\n",
    "    dfReturn['일'] = pd.to_numeric(dfRaw['일'])\n",
    "    \n",
    "    dfReturn['법정동'] = dfRaw['법정동'].str.strip()\n",
    "    dfReturn['아파트'] = dfRaw['아파트'].str.strip()\n",
    "    dfReturn['지번'] = dfRaw['지번'].str.strip()\n",
    "\n",
    "    dfReturn['건축년도'] = pd.to_numeric(dfRaw['건축년도'])\n",
    "    dfReturn['전용면적'] = pd.to_numeric(dfRaw['전용면적'])\n",
    "    dfReturn['층'] = pd.to_numeric(dfRaw['층'])\n",
    "    \n",
    "    dfReturn['p_ymd'] = pd.Timestamp(\"today\").strftime(\"%Y%m%d\")\n",
    "    dfReturn.index = range(len(dfReturn))\n",
    "\n",
    "    return dfReturn"
   ]
  },
  {
   "cell_type": "code",
   "execution_count": 14,
   "metadata": {},
   "outputs": [],
   "source": [
    "def crawlAptRent(code, ymd, key):\n",
    "    filePath = './dataset/apt-rent/{}/apt-rent-{}-{}.csv'.format(ymd, code, ymd)\n",
    "    \n",
    "    resAptRent = getAptRentResponse(\n",
    "        code, \n",
    "        ymd,\n",
    "        key)\n",
    "\n",
    "    dfAptRent = parseAptRentResponse(resAptRent)\n",
    "    \n",
    "    if dfAptRent.size > 0:\n",
    "        dfAptRent.to_csv(filePath, mode='w', index=False)"
   ]
  },
  {
   "cell_type": "code",
   "execution_count": null,
   "metadata": {},
   "outputs": [],
   "source": [
    "dealYmd = '201910'\n",
    "uniqueCodes = dfDistrictCodeB['법정구코드'].unique()\n",
    "\n",
    "print('아파트 전월세 수집 ({})'.format(dealYmd))\n",
    "for code in tqdm(uniqueCodes):\n",
    "    \n",
    "    print('수집중: {}'.format(code))\n",
    "    \n",
    "    time.sleep(0.10)\n",
    "    \n",
    "    crawlAptRent(code, dealYmd, apiKey)"
   ]
  },
  {
   "cell_type": "code",
   "execution_count": null,
   "metadata": {},
   "outputs": [],
   "source": []
  }
 ],
 "metadata": {
  "kernelspec": {
   "display_name": "Python 3",
   "language": "python",
   "name": "python3"
  },
  "language_info": {
   "codemirror_mode": {
    "name": "ipython",
    "version": 3
   },
   "file_extension": ".py",
   "mimetype": "text/x-python",
   "name": "python",
   "nbconvert_exporter": "python",
   "pygments_lexer": "ipython3",
   "version": "3.7.2"
  }
 },
 "nbformat": 4,
 "nbformat_minor": 4
}
