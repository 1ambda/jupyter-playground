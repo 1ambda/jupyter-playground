{
 "cells": [
  {
   "cell_type": "code",
   "execution_count": 19,
   "metadata": {},
   "outputs": [],
   "source": [
    "import json\n",
    "from pathlib import Path\n",
    "import requests\n",
    "from bs4 import BeautifulSoup\n",
    "\n",
    "import time\n",
    "\n",
    "from tqdm.notebook import trange, tqdm\n",
    "\n",
    "import pandas as pd\n",
    "import numpy as np"
   ]
  },
  {
   "cell_type": "code",
   "execution_count": 6,
   "metadata": {},
   "outputs": [],
   "source": [
    "## 공공 데이터 API 키 설정\n",
    "\n",
    "apiKeyPath = './api-key/public-data-gov-key.json'\n",
    "apiKey = ''\n",
    "\n",
    "with open(apiKeyPath) as json_file:\n",
    "    loaded = json.load(json_file)\n",
    "    apiKey = loaded['key']"
   ]
  },
  {
   "cell_type": "code",
   "execution_count": 7,
   "metadata": {},
   "outputs": [
    {
     "name": "stdout",
     "output_type": "stream",
     "text": [
      "가공된 법정동 코드 파일이 이미 존재합니다.\n"
     ]
    }
   ],
   "source": [
    "## 법정동 코드 (CP949) 를 UTF-8 CSV 로 저장하기\n",
    "\n",
    "\n",
    "rawFilePath = './dataset/district_code_b_20200117.txt'\n",
    "csvFilePath = './dataset/district_code_b_20200117.csv'\n",
    "\n",
    "if Path(csvFilePath).is_file():\n",
    "    print(\"가공된 법정동 코드 파일이 이미 존재합니다.\")\n",
    "else: \n",
    "    print(\"가공된 법정동 코드 파일이 존재하지 않습니다.\")\n",
    "    dfDistrictCodeRaw = pd.read_csv(\n",
    "        rawFilePath, \n",
    "        sep = '\\t',\n",
    "        encoding = 'CP949')\n",
    "\n",
    "    dfDistrictCodeConverted = dfDistrictCodeRaw.set_axis(\n",
    "        ['district_code', 'district_name', 'district_available'], \n",
    "        axis=1, inplace=False)\n",
    "\n",
    "    dfDistrictCodeConverted = dfDistrictCodeConverted.replace(\n",
    "        {\n",
    "            'district_available': {'존재': True, '폐지': False}\n",
    "        }\n",
    "    )\n",
    "    \n",
    "    ## district_parent_code 추가 후 reorder\n",
    "    dfDistrictCodeConverted['district_parent_code'] = dfDistrictCodeConverted['district_code'].apply(lambda x: int(str(x)[:5]))\n",
    "    dfDistrictCodeConverted = dfDistrictCodeConverted[[\n",
    "        'district_parent_code',\n",
    "        'district_code',\n",
    "        'district_name',\n",
    "        'district_available'\n",
    "    ]]\n",
    "\n",
    "    print(dfDistrictCodeConverted['district_available'].unique())\n",
    "\n",
    "    dfDistrictCodeConverted.to_csv(csvFilePath, mode='w', index=False)"
   ]
  },
  {
   "cell_type": "code",
   "execution_count": 8,
   "metadata": {},
   "outputs": [],
   "source": [
    "## 법정동 코드 Pandas 로 읽기\n",
    "dfDistrictCode = pd.read_csv('./dataset/district_code_b_20200117.csv')"
   ]
  },
  {
   "cell_type": "code",
   "execution_count": 9,
   "metadata": {},
   "outputs": [
    {
     "name": "stdout",
     "output_type": "stream",
     "text": [
      "법정구 코드 수 461\n"
     ]
    }
   ],
   "source": [
    "## 법정구 코드 수\n",
    "districtParentCodeCount = len(dfDistrictCode['district_parent_code'].unique())\n",
    "print('법정구 코드 수 {}'.format(districtParentCodeCount))"
   ]
  },
  {
   "cell_type": "code",
   "execution_count": 10,
   "metadata": {},
   "outputs": [
    {
     "data": {
      "text/html": [
       "<div>\n",
       "<style scoped>\n",
       "    .dataframe tbody tr th:only-of-type {\n",
       "        vertical-align: middle;\n",
       "    }\n",
       "\n",
       "    .dataframe tbody tr th {\n",
       "        vertical-align: top;\n",
       "    }\n",
       "\n",
       "    .dataframe thead th {\n",
       "        text-align: right;\n",
       "    }\n",
       "</style>\n",
       "<table border=\"1\" class=\"dataframe\">\n",
       "  <thead>\n",
       "    <tr style=\"text-align: right;\">\n",
       "      <th></th>\n",
       "      <th>district_parent_code</th>\n",
       "      <th>district_code</th>\n",
       "      <th>district_name</th>\n",
       "      <th>district_available</th>\n",
       "    </tr>\n",
       "  </thead>\n",
       "  <tbody>\n",
       "    <tr>\n",
       "      <th>289</th>\n",
       "      <td>11200</td>\n",
       "      <td>1120010400</td>\n",
       "      <td>서울특별시 성동구 도선동</td>\n",
       "      <td>True</td>\n",
       "    </tr>\n",
       "  </tbody>\n",
       "</table>\n",
       "</div>"
      ],
      "text/plain": [
       "     district_parent_code  district_code  district_name  district_available\n",
       "289                 11200     1120010400  서울특별시 성동구 도선동                True"
      ]
     },
     "execution_count": 10,
     "metadata": {},
     "output_type": "execute_result"
    }
   ],
   "source": [
    "## 법정구 (법정동 상위) 코드를 찾아주는 함수 작성\n",
    "def findDistrictCodeDf(query):\n",
    "    df = dfDistrictCode \\\n",
    "        .query('district_name.str.contains(\"{}\") and district_available == True'\n",
    "        .format(targetDistrict))\n",
    "    \n",
    "    return df\n",
    "\n",
    "targetDistrict = '도선동'\n",
    "findDistrictCodeDf(targetDistrict)"
   ]
  },
  {
   "cell_type": "code",
   "execution_count": 11,
   "metadata": {},
   "outputs": [
    {
     "data": {
      "text/plain": [
       "0                          [서울특별시]\n",
       "1                     [서울특별시, 종로구]\n",
       "2                [서울특별시, 종로구, 청운동]\n",
       "3                [서울특별시, 종로구, 신교동]\n",
       "4                [서울특별시, 종로구, 궁정동]\n",
       "                   ...            \n",
       "46169    [제주특별자치도, 서귀포시, 표선면, 하천리]\n",
       "46170    [제주특별자치도, 서귀포시, 표선면, 성읍리]\n",
       "46171    [제주특별자치도, 서귀포시, 표선면, 가시리]\n",
       "46172    [제주특별자치도, 서귀포시, 표선면, 세화리]\n",
       "46173    [제주특별자치도, 서귀포시, 표선면, 토산리]\n",
       "Name: district_name, Length: 46174, dtype: object"
      ]
     },
     "execution_count": 11,
     "metadata": {},
     "output_type": "execute_result"
    }
   ],
   "source": [
    "dfDistrictCode['district_name'].str.split(' ')"
   ]
  },
  {
   "cell_type": "code",
   "execution_count": 17,
   "metadata": {},
   "outputs": [],
   "source": [
    "## 아파트 실거래가 데이터\n",
    "def getAptTradeResponse(code, ymd, key):\n",
    "    apiPrefixGetAptTrade = \"http://openapi.molit.go.kr:8081/OpenAPI_ToolInstallPackage/service/rest/RTMSOBJSvc/getRTMSDataSvcAptTrade\"\n",
    "    urlGetAptTrade = \"{}?type=xml&LAWD_CD={}&DEAL_YMD={}&serviceKey={}\".format(\n",
    "        apiPrefixGetAptTrade, \n",
    "        code,\n",
    "        ymd,\n",
    "        key\n",
    "    )\n",
    "\n",
    "    responseApiTrade = requests.get(urlGetAptTrade, verify = False)\n",
    "    return responseApiTrade.text\n",
    "\n",
    "# XML 파싱 후 필터링\n",
    "def parseAptTradeResponse(text):\n",
    "    parsed = BeautifulSoup(text, 'lxml-xml')\n",
    "    rawXmlItems = parsed.findAll(\"item\")\n",
    "\n",
    "    colNames = [\n",
    "        '법정동',\n",
    "        '지역코드',\n",
    "        '아파트',\n",
    "        '지번',\n",
    "        '년',\n",
    "        '월',\n",
    "        '일',\n",
    "        '건축년도',\n",
    "        '전용면적',\n",
    "        '층',\n",
    "        '거래금액'\n",
    "    ]\n",
    "\n",
    "    dfRaw = pd.DataFrame(index = [], columns = colNames)\n",
    "\n",
    "    # XML 내 item 을 반복하며 pandas df 로 변경\n",
    "    for rawXmlItem in rawXmlItems: \n",
    "        row = dict.fromkeys(colNames)\n",
    "\n",
    "        for col in colNames:       \n",
    "            try :\n",
    "                row[col] = rawXmlItem.find(col).text\n",
    "            except :\n",
    "                row[col] = np.nan\n",
    "\n",
    "        dfTemp = pd.DataFrame(\n",
    "            [row],\n",
    "            columns = colNames)\n",
    "\n",
    "        dfRaw = dfRaw.append(dfTemp)\n",
    "\n",
    "    # 컬럼 타입 변경 또는 추가\n",
    "    dfReturn = dfRaw\n",
    "    dfReturn['거래일'] = pd.to_datetime(dfRaw['년'] + '-' + dfRaw['월'] + '-' + dfRaw['일'])\n",
    "    dfReturn['거래금액'] = pd.to_numeric(dfRaw['거래금액'].str.replace(',', ''))\n",
    "\n",
    "    dfReturn['지역코드'] = pd.to_numeric(dfRaw['지역코드'])\n",
    "    dfReturn['년'] = pd.to_numeric(dfRaw['년'])\n",
    "    dfReturn['월'] = pd.to_numeric(dfRaw['월'])\n",
    "    dfReturn['일'] = pd.to_numeric(dfRaw['일'])\n",
    "    \n",
    "    dfReturn['법정동'] = dfRaw['법정동'].str.strip()\n",
    "    dfReturn['아파트'] = dfRaw['아파트'].str.strip()\n",
    "    dfReturn['지번'] = dfRaw['지번'].str.strip()\n",
    "\n",
    "    dfReturn['건축년도'] = pd.to_numeric(dfRaw['건축년도'])\n",
    "    dfReturn['전용면적'] = pd.to_numeric(dfRaw['전용면적'])\n",
    "    dfReturn['층'] = pd.to_numeric(dfRaw['층'])\n",
    "    \n",
    "    dfReturn['p_ymd'] = pd.Timestamp(\"today\").strftime(\"%Y%m%d\")\n",
    "    dfReturn.index = range(len(dfReturn))\n",
    "\n",
    "    return dfReturn"
   ]
  },
  {
   "cell_type": "code",
   "execution_count": 14,
   "metadata": {},
   "outputs": [],
   "source": [
    "def crawlAptTrade(code, ymd, key):\n",
    "\n",
    "    \n",
    "    filePath = './dataset/apt-trade/{}/apt-trade-{}-{}.csv'.format(ymd, code, ymd)\n",
    "    \n",
    "    resAptTrade = getAptTradeResponse(\n",
    "        code, \n",
    "        ymd,\n",
    "        key)\n",
    "\n",
    "    dfAptTrade = parseAptTradeResponse(resAptTrade)\n",
    "    \n",
    "    if dfAptTrade.size > 0:\n",
    "        dfAptTrade.to_csv(filePath, mode='w', index=False)"
   ]
  },
  {
   "cell_type": "code",
   "execution_count": 26,
   "metadata": {},
   "outputs": [
    {
     "name": "stdout",
     "output_type": "stream",
     "text": [
      "아파트 실거래가 수집 (201912)\n"
     ]
    },
    {
     "data": {
      "application/vnd.jupyter.widget-view+json": {
       "model_id": "1478b26e05f84db58f5e1c1ebf524458",
       "version_major": 2,
       "version_minor": 0
      },
      "text/plain": [
       "HBox(children=(FloatProgress(value=0.0, max=5.0), HTML(value='')))"
      ]
     },
     "metadata": {},
     "output_type": "display_data"
    },
    {
     "name": "stdout",
     "output_type": "stream",
     "text": [
      "수집중: 11000\n",
      "수집중: 11110\n",
      "수집중: 11140\n",
      "수집중: 11170\n",
      "수집중: 11200\n",
      "\n"
     ]
    }
   ],
   "source": [
    "dealYmd = '201912'\n",
    "uniqueCodes = dfDistrictCode['district_parent_code'].unique()\n",
    "\n",
    "print('아파트 실거래가 수집 ({})'.format(dealYmd))\n",
    "for code in tqdm(uniqueCodes):\n",
    "    \n",
    "    print('수집중: {}'.format(code))\n",
    "    \n",
    "    time.sleep(0.10)\n",
    "    \n",
    "    crawlAptTrade(code, dealYmd, apiKey)"
   ]
  },
  {
   "cell_type": "code",
   "execution_count": null,
   "metadata": {},
   "outputs": [],
   "source": []
  }
 ],
 "metadata": {
  "kernelspec": {
   "display_name": "Python 3",
   "language": "python",
   "name": "python3"
  },
  "language_info": {
   "codemirror_mode": {
    "name": "ipython",
    "version": 3
   },
   "file_extension": ".py",
   "mimetype": "text/x-python",
   "name": "python",
   "nbconvert_exporter": "python",
   "pygments_lexer": "ipython3",
   "version": "3.7.2"
  }
 },
 "nbformat": 4,
 "nbformat_minor": 4
}
